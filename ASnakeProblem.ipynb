{
 "cells": [
  {
   "cell_type": "markdown",
   "metadata": {},
   "source": [
    "**You have been given an Input square matrix NxN containing certain numbers from 1 to 9.\n",
    "You have to draw a snake consisting of set of continuous black cells across the matrix keeping in mind the following set of rules:**\n",
    "\n",
    "1. The snake's tail should be at top-left of the grid. \n",
    "2. The width of the snake shall remain 1-cell only.\n",
    "3. The snake's tongue should emerge out of the bottom-right of the grid.\n",
    "4. The snake can consist of horizontal and vertical components.\n",
    "5. The snake cannot touch or cross itself.\n",
    "6. The sum of the digits in white cells (non-snake cells) should be the\n",
    "   same for all rows and columns."
   ]
  },
  {
   "cell_type": "markdown",
   "metadata": {},
   "source": [
    "# Input"
   ]
  },
  {
   "attachments": {
    "p1.PNG": {
     "image/png": "[encoded data removed]"
    }
   },
   "cell_type": "markdown",
   "metadata": {},
   "source": [
    "![p1.PNG](attachment:p1.PNG)"
   ]
  },
  {
   "cell_type": "code",
   "execution_count": 10,
   "metadata": {},
   "outputs": [],
   "source": [
    "#Please do not tamper with this variable\n",
    "Input=[[3,1,2,3,4],\n",
    "       [4,5,2,4,4],\n",
    "       [8,6,4,6,2],\n",
    "       [1,7,2,6,1],\n",
    "       [1,2,4,3,2]]"
   ]
  },
  {
   "cell_type": "markdown",
   "metadata": {},
   "source": [
    "# Output"
   ]
  },
  {
   "attachments": {
    "p2.PNG": {
     "image/png": "[encoded data removed]"
    }
   },
   "cell_type": "markdown",
   "metadata": {},
   "source": [
    "![p2.PNG](attachment:p2.PNG)"
   ]
  },
  {
   "cell_type": "markdown",
   "metadata": {},
   "source": [
    "**Your solution should be stored in an Output matrix in the following format where in X denotes the snake cells and you have to print the sum of all the non-snake cells alongside the respective row.**\n",
    "\n",
    "`Output=[[X,1,2,3,4], Sum of non-snake cells = 10\n",
    "        [X,X,2,4,4],  Sum of non-snake cells = 10\n",
    "        [8,X,X,X,2],  Sum of non-snake cells = 10\n",
    "        [1,7,2,X,X],  Sum of non-snake cells = 10\n",
    "        [1,2,4,3,X]]  Sum of non-snake cells = 10\n",
    "`       \n"
   ]
  },
  {
   "cell_type": "markdown",
   "metadata": {},
   "source": [
    "#### Please write the detailed pseudo-code in the cell below before writing the code"
   ]
  },
  {
   "cell_type": "code",
   "execution_count": 11,
   "metadata": {},
   "outputs": [],
   "source": [
    "import numpy as np\n",
    "N=len(Input)\n",
    "white_sum = -1\n",
    "drop_arr = np.zeros(N+1, dtype = int)-1\n",
    "\n",
    "def find(arr, x): \n",
    "    for i in range(0,len(arr)):\n",
    "        if arr[i]==x:\n",
    "            return i\n",
    "    return -1\n",
    "\n"
   ]
  },
  {
   "cell_type": "code",
   "execution_count": 12,
   "metadata": {},
   "outputs": [],
   "source": [
    "def SnakeSolver():\n",
    "    \n",
    "    #possible sums of first row\n",
    "    psumF = np.zeros(N,dtype = int)\n",
    "    for i in range(0, N): #snake ends at i\n",
    "        for j in range(i+1,N): #add numbers after i\n",
    "            psumF[i]+=Input[0][j]\n",
    "    \n",
    "    #possible sums of middle rows\n",
    "    psumR = np.zeros([N,N,N],dtype = int)-1\n",
    "    for l in range(1,N-1): #rows 1,2,..N-1\n",
    "        for k in range (0,N): #snake starts at k\n",
    "            for i in range(k, N): #snake ends at i\n",
    "                psumR[l][k][i]+=1\n",
    "                for j in range(i+1,N):#add numbers after the snake ends\n",
    "                    psumR[l][k][i]+=Input[l][j]\n",
    "                for h in range(0,k):#add numbers before the snake starts\n",
    "                    psumR[l][k][i]+=Input[l][h]\n",
    "                    \n",
    "    #possible sums of last row                \n",
    "    psumL = np.zeros(N,dtype = int)\n",
    "    for k in range(0, N): #snake starts at k\n",
    "        for j in range(0,k): #add numbers before k\n",
    "            psumL[k]+=Input[N-1][j]\n",
    "    \n",
    "    #common elements of possible sums of first row and second row\n",
    "    psumFL = np.zeros(N, dtype=int)-1\n",
    "    for i in range(0,N):\n",
    "        if find(psumL[i:N], psumF[i]) > -1:\n",
    "            psumFL[i]=psumF[i] \n",
    "    \n",
    "    #check for middle rows\n",
    "    for i in range(0,N): #loop through common elements\n",
    "        if psumFL[i]>-1:\n",
    "            k=np.zeros(N+1, dtype = int)\n",
    "            k[1]=i\n",
    "            k[N]=N-1\n",
    "            for j in range(1,N-1): #loop through the possible sum in middle rows\n",
    "                k[j+1]=find(psumR[j][k[j]],psumFL[i]) #if element is there, record drop at corresponding position\n",
    "                if k[j+1]==-1: #not finding it in next row\n",
    "                    break\n",
    "            if find(k,-1)==-1: #no error was recorded in the drops\n",
    "                white_sum = psumFL[i]\n",
    "                drop_arr = k\n",
    "                break\n",
    "    return(white_sum, drop_arr)"
   ]
  },
  {
   "cell_type": "code",
   "execution_count": 13,
   "metadata": {},
   "outputs": [],
   "source": [
    "def printSolution():\n",
    "    X = np.full([N, N], 'X')\n",
    "    Output = Input\n",
    "    for i in range(0,N):\n",
    "        Output[i][drop_arr[i]:(drop_arr[i+1]+1)]=X[i][drop_arr[i]:(drop_arr[i+1]+1)]\n",
    "    \n",
    "    string = \"Sum of non-snake cells = \" + str(white_sum)\n",
    "    FinalOutput = np.full([N, 2], string)\n",
    "    for i in range(0,N):\n",
    "        FinalOutput[i,0] = str(Output[i])\n",
    "    print(FinalOutput)"
   ]
  },
  {
   "cell_type": "code",
   "execution_count": 14,
   "metadata": {},
   "outputs": [
    {
     "name": "stdout",
     "output_type": "stream",
     "text": [
      "[0 0 1 3 4 4]\n",
      "[[\"['X', 1, 2, 3, 4]\" 'Sum of non-snake cells = 10']\n",
      " [\"['X', 'X', 2, 4, 4]\" 'Sum of non-snake cells = 10']\n",
      " [\"[8, 'X', 'X', 'X', 2]\" 'Sum of non-snake cells = 10']\n",
      " [\"[1, 7, 2, 'X', 'X']\" 'Sum of non-snake cells = 10']\n",
      " [\"[1, 2, 4, 3, 'X']\" 'Sum of non-snake cells = 10']]\n"
     ]
    }
   ],
   "source": [
    "(white_sum, drop_arr) = SnakeSolver()\n",
    "printSolution()"
   ]
  },
  {
   "cell_type": "code",
   "execution_count": null,
   "metadata": {},
   "outputs": [],
   "source": []
  },
  {
   "cell_type": "code",
   "execution_count": null,
   "metadata": {},
   "outputs": [],
   "source": []
  },
  {
   "cell_type": "code",
   "execution_count": null,
   "metadata": {},
   "outputs": [],
   "source": []
  }
 ],
 "metadata": {
  "kernelspec": {
   "display_name": "Python 2",
   "language": "python",
   "name": "python2"
  },
  "language_info": {
   "codemirror_mode": {
    "name": "ipython",
    "version": 2
   },
   "file_extension": ".py",
   "mimetype": "text/x-python",
   "name": "python",
   "nbconvert_exporter": "python",
   "pygments_lexer": "ipython2",
   "version": "2.7.16"
  }
 },
 "nbformat": 4,
 "nbformat_minor": 2
}
